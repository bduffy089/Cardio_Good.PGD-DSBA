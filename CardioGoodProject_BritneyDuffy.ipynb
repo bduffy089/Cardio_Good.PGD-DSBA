{
 "cells": [
  {
   "cell_type": "markdown",
   "id": "e45e3e1c",
   "metadata": {},
   "source": [
    "# Objective \n",
    "\n",
    "Preliminary Data Analysis. Explore the dataset and practice extracting basic observations about the data. The idea is to get you comfortable working in Python.\n",
    "\n",
    "You are expected to do the following :\n",
    "\n",
    " 1. Come up with a customer profile (characteristics of a customer) of the different products\n",
    " 2. Perform univariate and multivariate analyses\n",
    " 3. Generate a set of insights and recommendations that will help the company in targeting new customers\n",
    "\n",
    "**Context** - The data is about customers of the treadmill product(s) of a retail store called Cardio Good Fitness. It contains the following variables-\n",
    "\n",
    " 1. Product - The model no. of the treadmill\n",
    " 2. Age -  Age of the customer in no of years\n",
    " 3. Gender - Gender of the customer\n",
    " 4. Education - Education of the customer in no. of years\n",
    " 5. Marital Status - Marital status of the customer\n",
    " 6. Usage - Avg. # times the customer wants to use the treadmill every week\n",
    " 7. Fitness - Self rated fitness score of the customer (5 - very fit, 1 - very unfit)\n",
    " 8. Income - Income of the customer\n",
    " 9. Miles- Miles that a customer expects to run\n",
    " \n",
    "Explore the dataset to identify differences between the customers of each product. You can also explore relationships between the different attributes of the customers. You can approach it from any other line of questioning that you feel could be relevant for the business."
   ]
  },
  {
   "cell_type": "markdown",
   "id": "ae73d243",
   "metadata": {},
   "source": [
    "# Load Libraries"
   ]
  },
  {
   "cell_type": "code",
   "execution_count": 5,
   "id": "b1582da7",
   "metadata": {},
   "outputs": [],
   "source": [
    "# Libraries to help with reading and manipulating data\n",
    "import pandas as pd\n",
    "import numpy as np\n",
    "import matplotlib.pyplot as plt\n",
    "\n",
    "# Libraries to help with data visualization\n",
    "import seaborn as sns\n",
    "import matplotlib.pyplot as plt\n",
    "%matplotlib inline\n",
    "\n",
    "# Library to suppress warnings or deprecation notes \n",
    "import warnings\n",
    "warnings.filterwarnings('ignore')\n"
   ]
  },
  {
   "cell_type": "markdown",
   "id": "dfcc8eab",
   "metadata": {},
   "source": [
    "# Import and Check Data set "
   ]
  },
  {
   "cell_type": "code",
   "execution_count": 6,
   "id": "cc78d966",
   "metadata": {},
   "outputs": [
    {
     "data": {
      "text/html": [
       "<div>\n",
       "<style scoped>\n",
       "    .dataframe tbody tr th:only-of-type {\n",
       "        vertical-align: middle;\n",
       "    }\n",
       "\n",
       "    .dataframe tbody tr th {\n",
       "        vertical-align: top;\n",
       "    }\n",
       "\n",
       "    .dataframe thead th {\n",
       "        text-align: right;\n",
       "    }\n",
       "</style>\n",
       "<table border=\"1\" class=\"dataframe\">\n",
       "  <thead>\n",
       "    <tr style=\"text-align: right;\">\n",
       "      <th></th>\n",
       "      <th>Product</th>\n",
       "      <th>Age</th>\n",
       "      <th>Gender</th>\n",
       "      <th>Education</th>\n",
       "      <th>MaritalStatus</th>\n",
       "      <th>Usage</th>\n",
       "      <th>Fitness</th>\n",
       "      <th>Income</th>\n",
       "      <th>Miles</th>\n",
       "    </tr>\n",
       "  </thead>\n",
       "  <tbody>\n",
       "    <tr>\n",
       "      <th>0</th>\n",
       "      <td>TM195</td>\n",
       "      <td>18</td>\n",
       "      <td>Male</td>\n",
       "      <td>14</td>\n",
       "      <td>Single</td>\n",
       "      <td>3</td>\n",
       "      <td>4</td>\n",
       "      <td>29562</td>\n",
       "      <td>112</td>\n",
       "    </tr>\n",
       "    <tr>\n",
       "      <th>1</th>\n",
       "      <td>TM195</td>\n",
       "      <td>19</td>\n",
       "      <td>Male</td>\n",
       "      <td>15</td>\n",
       "      <td>Single</td>\n",
       "      <td>2</td>\n",
       "      <td>3</td>\n",
       "      <td>31836</td>\n",
       "      <td>75</td>\n",
       "    </tr>\n",
       "    <tr>\n",
       "      <th>2</th>\n",
       "      <td>TM195</td>\n",
       "      <td>19</td>\n",
       "      <td>Female</td>\n",
       "      <td>14</td>\n",
       "      <td>Partnered</td>\n",
       "      <td>4</td>\n",
       "      <td>3</td>\n",
       "      <td>30699</td>\n",
       "      <td>66</td>\n",
       "    </tr>\n",
       "    <tr>\n",
       "      <th>3</th>\n",
       "      <td>TM195</td>\n",
       "      <td>19</td>\n",
       "      <td>Male</td>\n",
       "      <td>12</td>\n",
       "      <td>Single</td>\n",
       "      <td>3</td>\n",
       "      <td>3</td>\n",
       "      <td>32973</td>\n",
       "      <td>85</td>\n",
       "    </tr>\n",
       "    <tr>\n",
       "      <th>4</th>\n",
       "      <td>TM195</td>\n",
       "      <td>20</td>\n",
       "      <td>Male</td>\n",
       "      <td>13</td>\n",
       "      <td>Partnered</td>\n",
       "      <td>4</td>\n",
       "      <td>2</td>\n",
       "      <td>35247</td>\n",
       "      <td>47</td>\n",
       "    </tr>\n",
       "  </tbody>\n",
       "</table>\n",
       "</div>"
      ],
      "text/plain": [
       "  Product  Age  Gender  Education MaritalStatus  Usage  Fitness  Income  Miles\n",
       "0   TM195   18    Male         14        Single      3        4   29562    112\n",
       "1   TM195   19    Male         15        Single      2        3   31836     75\n",
       "2   TM195   19  Female         14     Partnered      4        3   30699     66\n",
       "3   TM195   19    Male         12        Single      3        3   32973     85\n",
       "4   TM195   20    Male         13     Partnered      4        2   35247     47"
      ]
     },
     "execution_count": 6,
     "metadata": {},
     "output_type": "execute_result"
    }
   ],
   "source": [
    "df = pd.read_csv('CardioGoodFitness.csv')\n",
    "df.head()"
   ]
  },
  {
   "cell_type": "code",
   "execution_count": 7,
   "id": "f33129c7",
   "metadata": {},
   "outputs": [
    {
     "data": {
      "text/plain": [
       "(180, 9)"
      ]
     },
     "execution_count": 7,
     "metadata": {},
     "output_type": "execute_result"
    }
   ],
   "source": [
    "df.shape #checks shape"
   ]
  },
  {
   "cell_type": "markdown",
   "id": "583bff1e",
   "metadata": {},
   "source": [
    "* *The dataset has 180 rows and 9 columns*"
   ]
  },
  {
   "cell_type": "code",
   "execution_count": 8,
   "id": "4ac6fc3d",
   "metadata": {},
   "outputs": [
    {
     "name": "stdout",
     "output_type": "stream",
     "text": [
      "<class 'pandas.core.frame.DataFrame'>\n",
      "RangeIndex: 180 entries, 0 to 179\n",
      "Data columns (total 9 columns):\n",
      " #   Column         Non-Null Count  Dtype \n",
      "---  ------         --------------  ----- \n",
      " 0   Product        180 non-null    object\n",
      " 1   Age            180 non-null    int64 \n",
      " 2   Gender         180 non-null    object\n",
      " 3   Education      180 non-null    int64 \n",
      " 4   MaritalStatus  180 non-null    object\n",
      " 5   Usage          180 non-null    int64 \n",
      " 6   Fitness        180 non-null    int64 \n",
      " 7   Income         180 non-null    int64 \n",
      " 8   Miles          180 non-null    int64 \n",
      "dtypes: int64(6), object(3)\n",
      "memory usage: 12.8+ KB\n"
     ]
    }
   ],
   "source": [
    "df.info() #checks info"
   ]
  },
  {
   "cell_type": "markdown",
   "id": "7920caa9",
   "metadata": {},
   "source": [
    "* *There are 6 numeric columns and 3 object columns, 180 total entries* "
   ]
  },
  {
   "cell_type": "code",
   "execution_count": 9,
   "id": "4df0fada",
   "metadata": {},
   "outputs": [],
   "source": [
    "# categorical column should be converted to categorical type \n",
    "\n",
    "df['Gender']= df.Gender.astype('category')\n",
    "df['Product']= df.Product.astype('category')\n",
    "df['MaritalStatus']= df.MaritalStatus.astype('category')"
   ]
  },
  {
   "cell_type": "code",
   "execution_count": 10,
   "id": "6186fa86",
   "metadata": {},
   "outputs": [
    {
     "name": "stdout",
     "output_type": "stream",
     "text": [
      "Product          0\n",
      "Age              0\n",
      "Gender           0\n",
      "Education        0\n",
      "MaritalStatus    0\n",
      "Usage            0\n",
      "Fitness          0\n",
      "Income           0\n",
      "Miles            0\n",
      "dtype: int64\n"
     ]
    }
   ],
   "source": [
    "print(df.isnull().sum()) # print the numbers of missing values in the column"
   ]
  },
  {
   "cell_type": "markdown",
   "id": "b9461ded",
   "metadata": {},
   "source": [
    "* *No values missing in this data set*"
   ]
  },
  {
   "cell_type": "markdown",
   "id": "f76e233d",
   "metadata": {},
   "source": [
    "# Exploratory Data Analysis"
   ]
  },
  {
   "cell_type": "code",
   "execution_count": 11,
   "id": "09e52d4f",
   "metadata": {},
   "outputs": [
    {
     "name": "stdout",
     "output_type": "stream",
     "text": [
      "TM195    80\n",
      "TM498    60\n",
      "TM798    40\n",
      "Name: Product, dtype: int64\n",
      "--------------------------------------------------\n",
      "Male      104\n",
      "Female     76\n",
      "Name: Gender, dtype: int64\n",
      "--------------------------------------------------\n",
      "Partnered    107\n",
      "Single        73\n",
      "Name: MaritalStatus, dtype: int64\n",
      "--------------------------------------------------\n"
     ]
    }
   ],
   "source": [
    "#Making a list of all catrgorical variables \n",
    "cat_col=['Product', 'Gender', 'MaritalStatus']\n",
    "\n",
    "#Printing number of count of each unique value in each column\n",
    "for column in cat_col:\n",
    "    print(df[column].value_counts())\n",
    "    print('-'*50)"
   ]
  },
  {
   "cell_type": "markdown",
   "id": "ff35a61d",
   "metadata": {},
   "source": [
    " **Observations**\n",
    " \n",
    "  - TM195 is the most sold treadmill model\n",
    "  - There are more Male customers (104) buying treadmills than Females (74)\n",
    "  - More Married (107) vs. Single (73) Customers "
   ]
  },
  {
   "cell_type": "code",
   "execution_count": 12,
   "id": "761e2741",
   "metadata": {
    "scrolled": true
   },
   "outputs": [
    {
     "name": "stdout",
     "output_type": "stream",
     "text": [
      "PRODUCT :['TM195', 'TM498', 'TM798']\n",
      "Categories (3, object): ['TM195', 'TM498', 'TM798'] \n",
      "MARITALSTATUS :['Single', 'Partnered']\n",
      "Categories (2, object): ['Single', 'Partnered'] \n",
      "USAGE :[3 2 4 5 6 7] \n",
      "FITNESS :[4 3 2 1 5] \n",
      "EDUCATION :[14 15 12 13 16 18 20 21] \n",
      "AGE :[18 19 20 21 22 23 24 25 26 27 28 29 30 31 32 33 34 35 36 37 38 39 40 41\n",
      " 43 44 46 47 50 45 48 42] \n"
     ]
    }
   ],
   "source": [
    "list_col=['Product','MaritalStatus','Usage','Fitness','Education','Age']\n",
    "#displays columns and data types\n",
    "for col in list_col: \n",
    "    print('{} :{} ' . format(col.upper(),df[col].unique()))"
   ]
  },
  {
   "cell_type": "markdown",
   "id": "fa318d69",
   "metadata": {},
   "source": [
    "**Summary:**\n",
    "\n",
    "   - There are 3 different treadmill products\n",
    "   - Marital Status is Single or Partnered\n",
    "   - Age of Customers is 18 to 50\n",
    "   - Education in years is from 12-21\n",
    "   - Usage is from day to 7 days a week\n",
    "   - Fitness Level of customers is from 1 to 5\n"
   ]
  },
  {
   "cell_type": "code",
   "execution_count": 13,
   "id": "52b268e3",
   "metadata": {},
   "outputs": [
    {
     "data": {
      "text/html": [
       "<div>\n",
       "<style scoped>\n",
       "    .dataframe tbody tr th:only-of-type {\n",
       "        vertical-align: middle;\n",
       "    }\n",
       "\n",
       "    .dataframe tbody tr th {\n",
       "        vertical-align: top;\n",
       "    }\n",
       "\n",
       "    .dataframe thead th {\n",
       "        text-align: right;\n",
       "    }\n",
       "</style>\n",
       "<table border=\"1\" class=\"dataframe\">\n",
       "  <thead>\n",
       "    <tr style=\"text-align: right;\">\n",
       "      <th></th>\n",
       "      <th>Age</th>\n",
       "      <th>Education</th>\n",
       "      <th>Usage</th>\n",
       "      <th>Fitness</th>\n",
       "      <th>Income</th>\n",
       "      <th>Miles</th>\n",
       "    </tr>\n",
       "  </thead>\n",
       "  <tbody>\n",
       "    <tr>\n",
       "      <th>count</th>\n",
       "      <td>180.000000</td>\n",
       "      <td>180.000000</td>\n",
       "      <td>180.000000</td>\n",
       "      <td>180.000000</td>\n",
       "      <td>180.000000</td>\n",
       "      <td>180.000000</td>\n",
       "    </tr>\n",
       "    <tr>\n",
       "      <th>mean</th>\n",
       "      <td>28.788889</td>\n",
       "      <td>15.572222</td>\n",
       "      <td>3.455556</td>\n",
       "      <td>3.311111</td>\n",
       "      <td>53719.577778</td>\n",
       "      <td>103.194444</td>\n",
       "    </tr>\n",
       "    <tr>\n",
       "      <th>std</th>\n",
       "      <td>6.943498</td>\n",
       "      <td>1.617055</td>\n",
       "      <td>1.084797</td>\n",
       "      <td>0.958869</td>\n",
       "      <td>16506.684226</td>\n",
       "      <td>51.863605</td>\n",
       "    </tr>\n",
       "    <tr>\n",
       "      <th>min</th>\n",
       "      <td>18.000000</td>\n",
       "      <td>12.000000</td>\n",
       "      <td>2.000000</td>\n",
       "      <td>1.000000</td>\n",
       "      <td>29562.000000</td>\n",
       "      <td>21.000000</td>\n",
       "    </tr>\n",
       "    <tr>\n",
       "      <th>25%</th>\n",
       "      <td>24.000000</td>\n",
       "      <td>14.000000</td>\n",
       "      <td>3.000000</td>\n",
       "      <td>3.000000</td>\n",
       "      <td>44058.750000</td>\n",
       "      <td>66.000000</td>\n",
       "    </tr>\n",
       "    <tr>\n",
       "      <th>50%</th>\n",
       "      <td>26.000000</td>\n",
       "      <td>16.000000</td>\n",
       "      <td>3.000000</td>\n",
       "      <td>3.000000</td>\n",
       "      <td>50596.500000</td>\n",
       "      <td>94.000000</td>\n",
       "    </tr>\n",
       "    <tr>\n",
       "      <th>75%</th>\n",
       "      <td>33.000000</td>\n",
       "      <td>16.000000</td>\n",
       "      <td>4.000000</td>\n",
       "      <td>4.000000</td>\n",
       "      <td>58668.000000</td>\n",
       "      <td>114.750000</td>\n",
       "    </tr>\n",
       "    <tr>\n",
       "      <th>max</th>\n",
       "      <td>50.000000</td>\n",
       "      <td>21.000000</td>\n",
       "      <td>7.000000</td>\n",
       "      <td>5.000000</td>\n",
       "      <td>104581.000000</td>\n",
       "      <td>360.000000</td>\n",
       "    </tr>\n",
       "  </tbody>\n",
       "</table>\n",
       "</div>"
      ],
      "text/plain": [
       "              Age   Education       Usage     Fitness         Income  \\\n",
       "count  180.000000  180.000000  180.000000  180.000000     180.000000   \n",
       "mean    28.788889   15.572222    3.455556    3.311111   53719.577778   \n",
       "std      6.943498    1.617055    1.084797    0.958869   16506.684226   \n",
       "min     18.000000   12.000000    2.000000    1.000000   29562.000000   \n",
       "25%     24.000000   14.000000    3.000000    3.000000   44058.750000   \n",
       "50%     26.000000   16.000000    3.000000    3.000000   50596.500000   \n",
       "75%     33.000000   16.000000    4.000000    4.000000   58668.000000   \n",
       "max     50.000000   21.000000    7.000000    5.000000  104581.000000   \n",
       "\n",
       "            Miles  \n",
       "count  180.000000  \n",
       "mean   103.194444  \n",
       "std     51.863605  \n",
       "min     21.000000  \n",
       "25%     66.000000  \n",
       "50%     94.000000  \n",
       "75%    114.750000  \n",
       "max    360.000000  "
      ]
     },
     "execution_count": 13,
     "metadata": {},
     "output_type": "execute_result"
    }
   ],
   "source": [
    "df.describe() #summarizes data"
   ]
  },
  {
   "cell_type": "markdown",
   "id": "021105a6",
   "metadata": {},
   "source": [
    "   **Observations**\n",
    "   - The maximum income level and mileage appear to be far about central tendancies\n",
    "   - Many consumers rate themselves at a level 3 fintess and usage\n",
    "   - Very few consumers over age 33\n",
    "   - Customer education is between 12 and 21 years with average of 16 years"
   ]
  },
  {
   "cell_type": "markdown",
   "id": "f477d996",
   "metadata": {},
   "source": [
    "## **Measuring variables against each product line**"
   ]
  },
  {
   "cell_type": "markdown",
   "id": "e7d98d2b",
   "metadata": {},
   "source": [
    "   ### TM195  "
   ]
  },
  {
   "cell_type": "code",
   "execution_count": 14,
   "id": "a7f4b8a3",
   "metadata": {
    "scrolled": false
   },
   "outputs": [
    {
     "data": {
      "text/html": [
       "<div>\n",
       "<style scoped>\n",
       "    .dataframe tbody tr th:only-of-type {\n",
       "        vertical-align: middle;\n",
       "    }\n",
       "\n",
       "    .dataframe tbody tr th {\n",
       "        vertical-align: top;\n",
       "    }\n",
       "\n",
       "    .dataframe thead th {\n",
       "        text-align: right;\n",
       "    }\n",
       "</style>\n",
       "<table border=\"1\" class=\"dataframe\">\n",
       "  <thead>\n",
       "    <tr style=\"text-align: right;\">\n",
       "      <th></th>\n",
       "      <th>count</th>\n",
       "      <th>mean</th>\n",
       "      <th>std</th>\n",
       "      <th>min</th>\n",
       "      <th>25%</th>\n",
       "      <th>50%</th>\n",
       "      <th>75%</th>\n",
       "      <th>max</th>\n",
       "    </tr>\n",
       "  </thead>\n",
       "  <tbody>\n",
       "    <tr>\n",
       "      <th>Age</th>\n",
       "      <td>80.0</td>\n",
       "      <td>28.5500</td>\n",
       "      <td>7.221452</td>\n",
       "      <td>18.0</td>\n",
       "      <td>23.0</td>\n",
       "      <td>26.0</td>\n",
       "      <td>33.0</td>\n",
       "      <td>50.0</td>\n",
       "    </tr>\n",
       "    <tr>\n",
       "      <th>Education</th>\n",
       "      <td>80.0</td>\n",
       "      <td>15.0375</td>\n",
       "      <td>1.216383</td>\n",
       "      <td>12.0</td>\n",
       "      <td>14.0</td>\n",
       "      <td>16.0</td>\n",
       "      <td>16.0</td>\n",
       "      <td>18.0</td>\n",
       "    </tr>\n",
       "    <tr>\n",
       "      <th>Usage</th>\n",
       "      <td>80.0</td>\n",
       "      <td>3.0875</td>\n",
       "      <td>0.782624</td>\n",
       "      <td>2.0</td>\n",
       "      <td>3.0</td>\n",
       "      <td>3.0</td>\n",
       "      <td>4.0</td>\n",
       "      <td>5.0</td>\n",
       "    </tr>\n",
       "    <tr>\n",
       "      <th>Fitness</th>\n",
       "      <td>80.0</td>\n",
       "      <td>2.9625</td>\n",
       "      <td>0.664540</td>\n",
       "      <td>1.0</td>\n",
       "      <td>3.0</td>\n",
       "      <td>3.0</td>\n",
       "      <td>3.0</td>\n",
       "      <td>5.0</td>\n",
       "    </tr>\n",
       "    <tr>\n",
       "      <th>Income</th>\n",
       "      <td>80.0</td>\n",
       "      <td>46418.0250</td>\n",
       "      <td>9075.783190</td>\n",
       "      <td>29562.0</td>\n",
       "      <td>38658.0</td>\n",
       "      <td>46617.0</td>\n",
       "      <td>53439.0</td>\n",
       "      <td>68220.0</td>\n",
       "    </tr>\n",
       "    <tr>\n",
       "      <th>Miles</th>\n",
       "      <td>80.0</td>\n",
       "      <td>82.7875</td>\n",
       "      <td>28.874102</td>\n",
       "      <td>38.0</td>\n",
       "      <td>66.0</td>\n",
       "      <td>85.0</td>\n",
       "      <td>94.0</td>\n",
       "      <td>188.0</td>\n",
       "    </tr>\n",
       "  </tbody>\n",
       "</table>\n",
       "</div>"
      ],
      "text/plain": [
       "           count        mean          std      min      25%      50%      75%  \\\n",
       "Age         80.0     28.5500     7.221452     18.0     23.0     26.0     33.0   \n",
       "Education   80.0     15.0375     1.216383     12.0     14.0     16.0     16.0   \n",
       "Usage       80.0      3.0875     0.782624      2.0      3.0      3.0      4.0   \n",
       "Fitness     80.0      2.9625     0.664540      1.0      3.0      3.0      3.0   \n",
       "Income      80.0  46418.0250  9075.783190  29562.0  38658.0  46617.0  53439.0   \n",
       "Miles       80.0     82.7875    28.874102     38.0     66.0     85.0     94.0   \n",
       "\n",
       "               max  \n",
       "Age           50.0  \n",
       "Education     18.0  \n",
       "Usage          5.0  \n",
       "Fitness        5.0  \n",
       "Income     68220.0  \n",
       "Miles        188.0  "
      ]
     },
     "execution_count": 14,
     "metadata": {},
     "output_type": "execute_result"
    }
   ],
   "source": [
    "df[df['Product'] == 'TM195'].describe().T "
   ]
  },
  {
   "cell_type": "markdown",
   "id": "7641b28b",
   "metadata": {},
   "source": [
    "**Observations**\n",
    " - 80 customers bought TM195\n",
    " - Average Age = 28.5 \n",
    " - Average Education Level is 15 yrs\n",
    " - Expected Usage is 3 days a week\n",
    " - Fitness Ranges from 1 - 5 with an average of 3\n",
    " - Average income 46k and is maxed at 68K\n",
    " - Average Miles = 83 \n"
   ]
  },
  {
   "cell_type": "markdown",
   "id": "43b07e43",
   "metadata": {},
   "source": [
    "### TM498"
   ]
  },
  {
   "cell_type": "code",
   "execution_count": 15,
   "id": "34c6ceb6",
   "metadata": {
    "scrolled": true
   },
   "outputs": [
    {
     "data": {
      "text/html": [
       "<div>\n",
       "<style scoped>\n",
       "    .dataframe tbody tr th:only-of-type {\n",
       "        vertical-align: middle;\n",
       "    }\n",
       "\n",
       "    .dataframe tbody tr th {\n",
       "        vertical-align: top;\n",
       "    }\n",
       "\n",
       "    .dataframe thead th {\n",
       "        text-align: right;\n",
       "    }\n",
       "</style>\n",
       "<table border=\"1\" class=\"dataframe\">\n",
       "  <thead>\n",
       "    <tr style=\"text-align: right;\">\n",
       "      <th></th>\n",
       "      <th>count</th>\n",
       "      <th>mean</th>\n",
       "      <th>std</th>\n",
       "      <th>min</th>\n",
       "      <th>25%</th>\n",
       "      <th>50%</th>\n",
       "      <th>75%</th>\n",
       "      <th>max</th>\n",
       "    </tr>\n",
       "  </thead>\n",
       "  <tbody>\n",
       "    <tr>\n",
       "      <th>Age</th>\n",
       "      <td>60.0</td>\n",
       "      <td>28.900000</td>\n",
       "      <td>6.645248</td>\n",
       "      <td>19.0</td>\n",
       "      <td>24.0</td>\n",
       "      <td>26.0</td>\n",
       "      <td>33.25</td>\n",
       "      <td>48.0</td>\n",
       "    </tr>\n",
       "    <tr>\n",
       "      <th>Education</th>\n",
       "      <td>60.0</td>\n",
       "      <td>15.116667</td>\n",
       "      <td>1.222552</td>\n",
       "      <td>12.0</td>\n",
       "      <td>14.0</td>\n",
       "      <td>16.0</td>\n",
       "      <td>16.00</td>\n",
       "      <td>18.0</td>\n",
       "    </tr>\n",
       "    <tr>\n",
       "      <th>Usage</th>\n",
       "      <td>60.0</td>\n",
       "      <td>3.066667</td>\n",
       "      <td>0.799717</td>\n",
       "      <td>2.0</td>\n",
       "      <td>3.0</td>\n",
       "      <td>3.0</td>\n",
       "      <td>3.25</td>\n",
       "      <td>5.0</td>\n",
       "    </tr>\n",
       "    <tr>\n",
       "      <th>Fitness</th>\n",
       "      <td>60.0</td>\n",
       "      <td>2.900000</td>\n",
       "      <td>0.629770</td>\n",
       "      <td>1.0</td>\n",
       "      <td>3.0</td>\n",
       "      <td>3.0</td>\n",
       "      <td>3.00</td>\n",
       "      <td>4.0</td>\n",
       "    </tr>\n",
       "    <tr>\n",
       "      <th>Income</th>\n",
       "      <td>60.0</td>\n",
       "      <td>48973.650000</td>\n",
       "      <td>8653.989388</td>\n",
       "      <td>31836.0</td>\n",
       "      <td>44911.5</td>\n",
       "      <td>49459.5</td>\n",
       "      <td>53439.00</td>\n",
       "      <td>67083.0</td>\n",
       "    </tr>\n",
       "    <tr>\n",
       "      <th>Miles</th>\n",
       "      <td>60.0</td>\n",
       "      <td>87.933333</td>\n",
       "      <td>33.263135</td>\n",
       "      <td>21.0</td>\n",
       "      <td>64.0</td>\n",
       "      <td>85.0</td>\n",
       "      <td>106.00</td>\n",
       "      <td>212.0</td>\n",
       "    </tr>\n",
       "  </tbody>\n",
       "</table>\n",
       "</div>"
      ],
      "text/plain": [
       "           count          mean          std      min      25%      50%  \\\n",
       "Age         60.0     28.900000     6.645248     19.0     24.0     26.0   \n",
       "Education   60.0     15.116667     1.222552     12.0     14.0     16.0   \n",
       "Usage       60.0      3.066667     0.799717      2.0      3.0      3.0   \n",
       "Fitness     60.0      2.900000     0.629770      1.0      3.0      3.0   \n",
       "Income      60.0  48973.650000  8653.989388  31836.0  44911.5  49459.5   \n",
       "Miles       60.0     87.933333    33.263135     21.0     64.0     85.0   \n",
       "\n",
       "                75%      max  \n",
       "Age           33.25     48.0  \n",
       "Education     16.00     18.0  \n",
       "Usage          3.25      5.0  \n",
       "Fitness        3.00      4.0  \n",
       "Income     53439.00  67083.0  \n",
       "Miles        106.00    212.0  "
      ]
     },
     "execution_count": 15,
     "metadata": {},
     "output_type": "execute_result"
    }
   ],
   "source": [
    "df[df['Product'] == 'TM498'].describe().T "
   ]
  },
  {
   "cell_type": "markdown",
   "id": "44246d83",
   "metadata": {},
   "source": [
    "**Observations**\n",
    " - 60 customers bought TM498\n",
    " - Average Age = 28.9 \n",
    " - Average Education Level is 15.1 yrs\n",
    " - Expected Usage is 3 days a week\n",
    " - Fitness Ranges from 1 - 4 with an average of 2.9\n",
    " - Average income is 49k and maxed at 67K\n",
    " - Average Miles = 88  "
   ]
  },
  {
   "cell_type": "markdown",
   "id": "62d4338a",
   "metadata": {},
   "source": [
    "### TM798"
   ]
  },
  {
   "cell_type": "code",
   "execution_count": 16,
   "id": "f9f5b4ff",
   "metadata": {},
   "outputs": [
    {
     "data": {
      "text/html": [
       "<div>\n",
       "<style scoped>\n",
       "    .dataframe tbody tr th:only-of-type {\n",
       "        vertical-align: middle;\n",
       "    }\n",
       "\n",
       "    .dataframe tbody tr th {\n",
       "        vertical-align: top;\n",
       "    }\n",
       "\n",
       "    .dataframe thead th {\n",
       "        text-align: right;\n",
       "    }\n",
       "</style>\n",
       "<table border=\"1\" class=\"dataframe\">\n",
       "  <thead>\n",
       "    <tr style=\"text-align: right;\">\n",
       "      <th></th>\n",
       "      <th>count</th>\n",
       "      <th>mean</th>\n",
       "      <th>std</th>\n",
       "      <th>min</th>\n",
       "      <th>25%</th>\n",
       "      <th>50%</th>\n",
       "      <th>75%</th>\n",
       "      <th>max</th>\n",
       "    </tr>\n",
       "  </thead>\n",
       "  <tbody>\n",
       "    <tr>\n",
       "      <th>Age</th>\n",
       "      <td>40.0</td>\n",
       "      <td>29.100</td>\n",
       "      <td>6.971738</td>\n",
       "      <td>22.0</td>\n",
       "      <td>24.75</td>\n",
       "      <td>27.0</td>\n",
       "      <td>30.25</td>\n",
       "      <td>48.0</td>\n",
       "    </tr>\n",
       "    <tr>\n",
       "      <th>Education</th>\n",
       "      <td>40.0</td>\n",
       "      <td>17.325</td>\n",
       "      <td>1.639066</td>\n",
       "      <td>14.0</td>\n",
       "      <td>16.00</td>\n",
       "      <td>18.0</td>\n",
       "      <td>18.00</td>\n",
       "      <td>21.0</td>\n",
       "    </tr>\n",
       "    <tr>\n",
       "      <th>Usage</th>\n",
       "      <td>40.0</td>\n",
       "      <td>4.775</td>\n",
       "      <td>0.946993</td>\n",
       "      <td>3.0</td>\n",
       "      <td>4.00</td>\n",
       "      <td>5.0</td>\n",
       "      <td>5.00</td>\n",
       "      <td>7.0</td>\n",
       "    </tr>\n",
       "    <tr>\n",
       "      <th>Fitness</th>\n",
       "      <td>40.0</td>\n",
       "      <td>4.625</td>\n",
       "      <td>0.667467</td>\n",
       "      <td>3.0</td>\n",
       "      <td>4.00</td>\n",
       "      <td>5.0</td>\n",
       "      <td>5.00</td>\n",
       "      <td>5.0</td>\n",
       "    </tr>\n",
       "    <tr>\n",
       "      <th>Income</th>\n",
       "      <td>40.0</td>\n",
       "      <td>75441.575</td>\n",
       "      <td>18505.836720</td>\n",
       "      <td>48556.0</td>\n",
       "      <td>58204.75</td>\n",
       "      <td>76568.5</td>\n",
       "      <td>90886.00</td>\n",
       "      <td>104581.0</td>\n",
       "    </tr>\n",
       "    <tr>\n",
       "      <th>Miles</th>\n",
       "      <td>40.0</td>\n",
       "      <td>166.900</td>\n",
       "      <td>60.066544</td>\n",
       "      <td>80.0</td>\n",
       "      <td>120.00</td>\n",
       "      <td>160.0</td>\n",
       "      <td>200.00</td>\n",
       "      <td>360.0</td>\n",
       "    </tr>\n",
       "  </tbody>\n",
       "</table>\n",
       "</div>"
      ],
      "text/plain": [
       "           count       mean           std      min       25%      50%  \\\n",
       "Age         40.0     29.100      6.971738     22.0     24.75     27.0   \n",
       "Education   40.0     17.325      1.639066     14.0     16.00     18.0   \n",
       "Usage       40.0      4.775      0.946993      3.0      4.00      5.0   \n",
       "Fitness     40.0      4.625      0.667467      3.0      4.00      5.0   \n",
       "Income      40.0  75441.575  18505.836720  48556.0  58204.75  76568.5   \n",
       "Miles       40.0    166.900     60.066544     80.0    120.00    160.0   \n",
       "\n",
       "                75%       max  \n",
       "Age           30.25      48.0  \n",
       "Education     18.00      21.0  \n",
       "Usage          5.00       7.0  \n",
       "Fitness        5.00       5.0  \n",
       "Income     90886.00  104581.0  \n",
       "Miles        200.00     360.0  "
      ]
     },
     "execution_count": 16,
     "metadata": {},
     "output_type": "execute_result"
    }
   ],
   "source": [
    "df[df['Product'] == 'TM798'].describe().T "
   ]
  },
  {
   "cell_type": "markdown",
   "id": "d1d5b4d9",
   "metadata": {},
   "source": [
    "**Observations**\n",
    " - 40 customers bought TM798\n",
    " - Average Age = 29.1 \n",
    " - Average Education Level is 17.3 yrs\n",
    " - Expected Usage is 4.7 days a week\n",
    " - Fitness Ranges from 3 - 5 with an average of 4.6\n",
    " - Average income is 75k and maxed at 106K\n",
    " - Average Miles = 166 "
   ]
  },
  {
   "cell_type": "markdown",
   "id": "a46458ff",
   "metadata": {},
   "source": [
    "# Visulization"
   ]
  },
  {
   "cell_type": "code",
   "execution_count": 17,
   "id": "0437b54c",
   "metadata": {},
   "outputs": [],
   "source": [
    "# While doing uni-variate analysis of numerical variables we want to study their central tendency \n",
    "# and dispersion.\n",
    "# Let us write a function that will help us create a boxplot and histogram for any input numerical \n",
    "# variable.\n",
    "# This function takes the numerical column as the input and returns the boxplots \n",
    "# and histograms for the variable.\n",
    "# Let us see if this helps us write faster and cleaner code.    \n",
    "    \n",
    "# function to plot a boxplot and a histogram along the same scale.\n",
    "\n",
    "\n",
    "def histogram_boxplot(data, feature, figsize=(12, 7), kde=False, bins=None):\n",
    "    \"\"\"\n",
    "    Boxplot and histogram combined\n",
    "\n",
    "    data: dataframe\n",
    "    feature: dataframe column\n",
    "    figsize: size of figure (default (12,7))\n",
    "    kde: whether to show the density curve (default False)\n",
    "    bins: number of bins for histogram (default None)\n",
    "    \"\"\"\n",
    "    f2, (ax_box2, ax_hist2) = plt.subplots(\n",
    "        nrows=2,  # Number of rows of the subplot grid= 2\n",
    "        sharex=True,  # x-axis will be shared among all subplots\n",
    "        gridspec_kw={\"height_ratios\": (0.25, 0.75)},\n",
    "        figsize=figsize,)  # creating the 2 subplots\n",
    "    sns.boxplot(\n",
    "        data=data, x=feature, ax=ax_box2, showmeans=True, color=\"violet\")  # boxplot will be created and a star will indicate the mean value of the column\n",
    "    sns.histplot(\n",
    "        data=data, x=feature, kde=kde, ax=ax_hist2, bins=bins, palette=\"winter\") if bins else sns.histplot(\n",
    "        data=data, x=feature, kde=kde, ax=ax_hist2)  # For histogram\n",
    "    ax_hist2.axvline(\n",
    "        data[feature].mean(), color=\"green\", linestyle=\"--\")  # Add mean to the histogram\n",
    "    ax_hist2.axvline(\n",
    "        data[feature].median(), color=\"black\", linestyle=\"-\")  # Add median to the histogram"
   ]
  },
  {
   "cell_type": "markdown",
   "id": "03c10d55",
   "metadata": {},
   "source": [
    "# Univariate Analysis"
   ]
  },
  {
   "cell_type": "markdown",
   "id": "32095e9f",
   "metadata": {},
   "source": [
    "## Observation on Age"
   ]
  },
  {
   "cell_type": "code",
   "execution_count": 18,
   "id": "e61fcfab",
   "metadata": {},
   "outputs": [
    {
     "data": {
      "image/png": "[encoded data removed]",
      "text/plain": [
       "<Figure size 864x504 with 2 Axes>"
      ]
     },
     "metadata": {
      "needs_background": "light"
     },
     "output_type": "display_data"
    }
   ],
   "source": [
    "histogram_boxplot(df, 'Age')"
   ]
  },
  {
   "cell_type": "markdown",
   "id": "ec6ecfa0",
   "metadata": {},
   "source": [
    " - Age is skewed left near late 20s with a few outliers over the age of 45\n",
    " - Most customers are age 23-35"
   ]
  },
  {
   "cell_type": "markdown",
   "id": "32b4ec84",
   "metadata": {},
   "source": [
    "## Observation on Education"
   ]
  },
  {
   "cell_type": "code",
   "execution_count": 19,
   "id": "b6af737a",
   "metadata": {
    "scrolled": false
   },
   "outputs": [
    {
     "data": {
      "image/png": "[encoded data removed]",
      "text/plain": [
       "<Figure size 864x504 with 2 Axes>"
      ]
     },
     "metadata": {
      "needs_background": "light"
     },
     "output_type": "display_data"
    }
   ],
   "source": [
    "histogram_boxplot(df, 'Education')\n"
   ]
  },
  {
   "cell_type": "code",
   "execution_count": null,
   "id": "aefe2663",
   "metadata": {},
   "outputs": [],
   "source": []
  },
  {
   "cell_type": "markdown",
   "id": "b4719259",
   "metadata": {},
   "source": [
    "## Observation on Income "
   ]
  },
  {
   "cell_type": "code",
   "execution_count": 20,
   "id": "07b95a08",
   "metadata": {
    "scrolled": true
   },
   "outputs": [
    {
     "data": {
      "image/png": "[encoded data removed]",
      "text/plain": [
       "<Figure size 864x504 with 2 Axes>"
      ]
     },
     "metadata": {
      "needs_background": "light"
     },
     "output_type": "display_data"
    }
   ],
   "source": [
    "histogram_boxplot(df, 'Income')"
   ]
  },
  {
   "cell_type": "markdown",
   "id": "4c9697c0",
   "metadata": {},
   "source": [
    " - Income has heavy central tendancy around 54k\n",
    " - Many outliers exist over 75k "
   ]
  },
  {
   "cell_type": "markdown",
   "id": "d401c995",
   "metadata": {},
   "source": [
    "## Observation on Usage"
   ]
  },
  {
   "cell_type": "code",
   "execution_count": 21,
   "id": "eb978306",
   "metadata": {},
   "outputs": [
    {
     "data": {
      "image/png": "[encoded data removed]",
      "text/plain": [
       "<Figure size 864x504 with 2 Axes>"
      ]
     },
     "metadata": {
      "needs_background": "light"
     },
     "output_type": "display_data"
    }
   ],
   "source": [
    "histogram_boxplot(df, 'Usage')"
   ]
  },
  {
   "cell_type": "markdown",
   "id": "89adefee",
   "metadata": {},
   "source": [
    " - Most of customers expect they will be using the treadmill 3-4 days per week\n",
    " - There are few outliers where customer are expecting to use treadmill for 6 or 7 times a week"
   ]
  },
  {
   "cell_type": "markdown",
   "id": "95340306",
   "metadata": {},
   "source": [
    "## Observation on Fitness"
   ]
  },
  {
   "cell_type": "code",
   "execution_count": 22,
   "id": "1818694e",
   "metadata": {},
   "outputs": [
    {
     "data": {
      "image/png": "[encoded data removed]",
      "text/plain": [
       "<Figure size 864x504 with 2 Axes>"
      ]
     },
     "metadata": {
      "needs_background": "light"
     },
     "output_type": "display_data"
    }
   ],
   "source": [
    "histogram_boxplot(df, 'Fitness')"
   ]
  },
  {
   "cell_type": "markdown",
   "id": "f4a0abec",
   "metadata": {},
   "source": [
    " - Most Customers have self assessed fitness levels at 3"
   ]
  },
  {
   "cell_type": "markdown",
   "id": "588bf7c5",
   "metadata": {},
   "source": [
    "# Observation on Miles "
   ]
  },
  {
   "cell_type": "code",
   "execution_count": 23,
   "id": "97053d1c",
   "metadata": {},
   "outputs": [
    {
     "data": {
      "image/png": "[encoded data removed]",
      "text/plain": [
       "<Figure size 864x504 with 2 Axes>"
      ]
     },
     "metadata": {
      "needs_background": "light"
     },
     "output_type": "display_data"
    }
   ],
   "source": [
    "histogram_boxplot(df, 'Miles')"
   ]
  },
  {
   "cell_type": "markdown",
   "id": "da061f63",
   "metadata": {},
   "source": [
    " - Miles are skewed to the left\n",
    " - A heavey central tendancy exists around 80 miles per week\n",
    "\n",
    "    "
   ]
  },
  {
   "cell_type": "markdown",
   "id": "2c224abe",
   "metadata": {},
   "source": [
    "# Observation on Treadmill Model Sales"
   ]
  },
  {
   "cell_type": "code",
   "execution_count": 24,
   "id": "638235b7",
   "metadata": {},
   "outputs": [
    {
     "data": {
      "image/png": "[encoded data removed]",
      "text/plain": [
       "<Figure size 576x576 with 1 Axes>"
      ]
     },
     "metadata": {},
     "output_type": "display_data"
    }
   ],
   "source": [
    "plt.figure(figsize=(14,7))\n",
    "df['Product'].value_counts().plot.pie(autopct='%1.1f%%',figsize=(8,8))\n",
    "plt.title(\"Treadmill Model Sales\")\n",
    "plt.show()"
   ]
  },
  {
   "cell_type": "markdown",
   "id": "811d96ba",
   "metadata": {},
   "source": [
    "- Lower models make up the greater proportion of sales\n",
    "- TM798 is only 22% of product sales\n"
   ]
  },
  {
   "cell_type": "markdown",
   "id": "91b9d93d",
   "metadata": {},
   "source": [
    "## Observation on Gender"
   ]
  },
  {
   "cell_type": "code",
   "execution_count": 25,
   "id": "43e2a05b",
   "metadata": {},
   "outputs": [
    {
     "data": {
      "text/plain": [
       "<AxesSubplot:xlabel='Gender', ylabel='count'>"
      ]
     },
     "execution_count": 25,
     "metadata": {},
     "output_type": "execute_result"
    },
    {
     "data": {
      "image/png": "[encoded data removed]",
      "text/plain": [
       "<Figure size 432x288 with 1 Axes>"
      ]
     },
     "metadata": {
      "needs_background": "light"
     },
     "output_type": "display_data"
    }
   ],
   "source": [
    "sns.countplot(df.Gender)\n"
   ]
  },
  {
   "cell_type": "markdown",
   "id": "df51352c",
   "metadata": {},
   "source": [
    " - There are more males customers than females"
   ]
  },
  {
   "cell_type": "markdown",
   "id": "18ef6d43",
   "metadata": {},
   "source": [
    "## Observation on Marital Status"
   ]
  },
  {
   "cell_type": "code",
   "execution_count": 26,
   "id": "4904675b",
   "metadata": {},
   "outputs": [
    {
     "data": {
      "text/plain": [
       "<AxesSubplot:xlabel='MaritalStatus', ylabel='count'>"
      ]
     },
     "execution_count": 26,
     "metadata": {},
     "output_type": "execute_result"
    },
    {
     "data": {
      "image/png": "[encoded data removed]",
      "text/plain": [
       "<Figure size 432x288 with 1 Axes>"
      ]
     },
     "metadata": {
      "needs_background": "light"
     },
     "output_type": "display_data"
    }
   ],
   "source": [
    "sns.countplot(df.MaritalStatus)"
   ]
  },
  {
   "cell_type": "markdown",
   "id": "514e386e",
   "metadata": {},
   "source": [
    "* There are more Partnered customers than Single"
   ]
  },
  {
   "cell_type": "markdown",
   "id": "ffca5f86",
   "metadata": {},
   "source": [
    "# Bivariate Analysis"
   ]
  },
  {
   "cell_type": "code",
   "execution_count": 27,
   "id": "8c719ccd",
   "metadata": {},
   "outputs": [
    {
     "data": {
      "text/plain": [
       "Product\n",
       "TM195    28.55\n",
       "TM498    28.90\n",
       "TM798    29.10\n",
       "Name: Age, dtype: float64"
      ]
     },
     "execution_count": 27,
     "metadata": {},
     "output_type": "execute_result"
    }
   ],
   "source": [
    "#Average age of customer buying each model\n",
    "df.groupby('Product')['Age'].mean()\n"
   ]
  },
  {
   "cell_type": "code",
   "execution_count": 28,
   "id": "50fd1d74",
   "metadata": {},
   "outputs": [
    {
     "data": {
      "text/plain": [
       "Product\n",
       "TM195    46418.025\n",
       "TM498    48973.650\n",
       "TM798    75441.575\n",
       "Name: Income, dtype: float64"
      ]
     },
     "execution_count": 28,
     "metadata": {},
     "output_type": "execute_result"
    }
   ],
   "source": [
    "#Average Income of customer buying each model\n",
    "df.groupby('Product')['Income'].mean()\n"
   ]
  },
  {
   "cell_type": "code",
   "execution_count": 29,
   "id": "4c4fb648",
   "metadata": {},
   "outputs": [
    {
     "data": {
      "text/plain": [
       "Product\n",
       "TM195     82.787500\n",
       "TM498     87.933333\n",
       "TM798    166.900000\n",
       "Name: Miles, dtype: float64"
      ]
     },
     "execution_count": 29,
     "metadata": {},
     "output_type": "execute_result"
    }
   ],
   "source": [
    "#Average Miles of customer buying each model\n",
    "df.groupby('Product')['Miles'].mean()"
   ]
  },
  {
   "cell_type": "code",
   "execution_count": 30,
   "id": "9bb45f39",
   "metadata": {},
   "outputs": [
    {
     "data": {
      "text/plain": [
       "<seaborn.axisgrid.FacetGrid at 0x7ffca3a6d6a0>"
      ]
     },
     "execution_count": 30,
     "metadata": {},
     "output_type": "execute_result"
    },
    {
     "data": {
      "image/png": "[encoded data removed]",
      "text/plain": [
       "<Figure size 360x360 with 1 Axes>"
      ]
     },
     "metadata": {
      "needs_background": "light"
     },
     "output_type": "display_data"
    }
   ],
   "source": [
    "sns.catplot( x = \"MaritalStatus\", y = 'Miles', data = df, kind = 'box')"
   ]
  },
  {
   "cell_type": "markdown",
   "id": "ac186279",
   "metadata": {},
   "source": [
    " - Single customers plan to run less"
   ]
  },
  {
   "cell_type": "code",
   "execution_count": 31,
   "id": "281d6af5",
   "metadata": {},
   "outputs": [
    {
     "data": {
      "text/plain": [
       "<seaborn.axisgrid.FacetGrid at 0x7ffc900b62e0>"
      ]
     },
     "execution_count": 31,
     "metadata": {},
     "output_type": "execute_result"
    },
    {
     "data": {
      "image/png": "[encoded data removed]",
      "text/plain": [
       "<Figure size 360x360 with 1 Axes>"
      ]
     },
     "metadata": {
      "needs_background": "light"
     },
     "output_type": "display_data"
    }
   ],
   "source": [
    "sns.catplot( x = 'Gender', y = 'Income', data = df)\n"
   ]
  },
  {
   "cell_type": "markdown",
   "id": "082fb710",
   "metadata": {},
   "source": [
    " - Males have higher income than females"
   ]
  },
  {
   "cell_type": "code",
   "execution_count": 32,
   "id": "cccc1f27",
   "metadata": {},
   "outputs": [
    {
     "name": "stdout",
     "output_type": "stream",
     "text": [
      "Gender   Female  Male\n",
      "Product              \n",
      "TM195        40    40\n",
      "TM498        29    31\n",
      "TM798         7    33\n"
     ]
    },
    {
     "data": {
      "text/plain": [
       "Text(0.5, 1.0, 'PRODUCT BY GENDER')"
      ]
     },
     "execution_count": 32,
     "metadata": {},
     "output_type": "execute_result"
    },
    {
     "data": {
      "text/plain": [
       "<Figure size 864x864 with 0 Axes>"
      ]
     },
     "metadata": {},
     "output_type": "display_data"
    },
    {
     "data": {
      "image/png": "[encoded data removed]",
      "text/plain": [
       "<Figure size 432x288 with 1 Axes>"
      ]
     },
     "metadata": {
      "needs_background": "light"
     },
     "output_type": "display_data"
    }
   ],
   "source": [
    "plt.figure(figsize=(12,12))\n",
    "prd_gender=pd.crosstab(df['Product'],df['Gender'] )\n",
    "print(prd_gender)\n",
    "\n",
    "ax=prd_gender.plot(kind='bar')\n",
    "\n",
    "plt.title(\"PRODUCT BY GENDER\")"
   ]
  },
  {
   "cell_type": "markdown",
   "id": "398e0b73",
   "metadata": {},
   "source": [
    "**Observation**\n",
    "\n",
    " - Males and Females bought the TM195 model equallly\n",
    " - Compared to females, male bought TM498 model .\n",
    " - Very few females purchased TM798 model.\n"
   ]
  },
  {
   "cell_type": "markdown",
   "id": "58c02823",
   "metadata": {},
   "source": [
    "# Multivariate Analysis"
   ]
  },
  {
   "cell_type": "code",
   "execution_count": 33,
   "id": "9c79a502",
   "metadata": {},
   "outputs": [
    {
     "data": {
      "text/plain": [
       "<seaborn.axisgrid.FacetGrid at 0x7ffc7052d580>"
      ]
     },
     "execution_count": 33,
     "metadata": {},
     "output_type": "execute_result"
    },
    {
     "data": {
      "text/plain": [
       "<Figure size 864x504 with 0 Axes>"
      ]
     },
     "metadata": {},
     "output_type": "display_data"
    },
    {
     "data": {
      "image/png": "[encoded data removed]",
      "text/plain": [
       "<Figure size 789.75x360 with 2 Axes>"
      ]
     },
     "metadata": {
      "needs_background": "light"
     },
     "output_type": "display_data"
    }
   ],
   "source": [
    "plt.figure(figsize=(12,7))\n",
    "sns.catplot(x='Usage', y='Income', col='Gender',hue='Product' ,kind=\"bar\", data=df) \n"
   ]
  },
  {
   "cell_type": "markdown",
   "id": "257451d9",
   "metadata": {},
   "source": [
    "**Observations**\n",
    "\n",
    "  - There is no difference in income range between customers who purchased TM195 and TM498\n",
    "  - These customers expect to use TM195 and TM498 three to four times a week\n",
    "  - Male customer with higher income, bought TM798 Model and expect to use treadmill 4-6 /week\n",
    "\n"
   ]
  },
  {
   "cell_type": "code",
   "execution_count": 34,
   "id": "51078d10",
   "metadata": {},
   "outputs": [
    {
     "data": {
      "text/plain": [
       "<seaborn.axisgrid.FacetGrid at 0x7ffca4048400>"
      ]
     },
     "execution_count": 34,
     "metadata": {},
     "output_type": "execute_result"
    },
    {
     "data": {
      "image/png": "[encoded data removed]",
      "text/plain": [
       "<Figure size 645.75x576 with 1 Axes>"
      ]
     },
     "metadata": {
      "needs_background": "light"
     },
     "output_type": "display_data"
    }
   ],
   "source": [
    "#scatter plot between income, age, and product\n",
    "sns.relplot(x=\"Age\", y=\"Income\", hue=\"Product\", alpha=.8, palette=\"plasma\",\n",
    "            height=8, data=df).set(title='Income Relation to Age and Product')"
   ]
  },
  {
   "cell_type": "markdown",
   "id": "2c0f3a8f",
   "metadata": {},
   "source": [
    "**Observations**\n",
    " - TM798 is bought by customers with the highest income levels and age range is more concentrated around 23-30\n",
    " - All customers purchasing TM195 and TM498 had income less than 70K"
   ]
  },
  {
   "cell_type": "markdown",
   "id": "f6ac02d4",
   "metadata": {},
   "source": [
    "# Correlation "
   ]
  },
  {
   "cell_type": "code",
   "execution_count": 35,
   "id": "806bdb10",
   "metadata": {
    "scrolled": false
   },
   "outputs": [
    {
     "data": {
      "text/plain": [
       "<AxesSubplot:>"
      ]
     },
     "execution_count": 35,
     "metadata": {},
     "output_type": "execute_result"
    },
    {
     "data": {
      "image/png": "[encoded data removed]",
      "text/plain": [
       "<Figure size 1080x504 with 2 Axes>"
      ]
     },
     "metadata": {
      "needs_background": "light"
     },
     "output_type": "display_data"
    }
   ],
   "source": [
    "# Check for correlation among numerical variables\n",
    "num_var = ['Age','Education','Fitness','Usage','Miles', 'Income']\n",
    "\n",
    "corr = df[num_var].corr()\n",
    "\n",
    "# plot the heatmap\n",
    "plt.figure(figsize=(15, 7))\n",
    "sns.heatmap(corr, annot=True, vmin=-1, vmax=1, fmt=\".2f\", cmap=\"Spectral\", xticklabels=corr.columns)"
   ]
  },
  {
   "cell_type": "markdown",
   "id": "72aeed37",
   "metadata": {},
   "source": [
    "**We can find high correlation between following values.**\n",
    "\n",
    " - Miles and Usage\n",
    " - Miles and Fitness\n",
    " - Income and Education\n",
    " - Fitness and Usage\n",
    "\n"
   ]
  },
  {
   "cell_type": "markdown",
   "id": "cd718b3a",
   "metadata": {},
   "source": [
    "# Summary"
   ]
  },
  {
   "cell_type": "markdown",
   "id": "9e074666",
   "metadata": {},
   "source": [
    " - TM195 model is the most purchased model with 44.4%\n",
    " - There are more Male customers than Female customers, with males also being heavier users\n",
    " - More partner customers than single purchase treadmills and they also plan to run further\n",
    " - Majority of customers earn less than 70K \n",
    "\n"
   ]
  },
  {
   "cell_type": "markdown",
   "id": "22794b39",
   "metadata": {},
   "source": [
    "# Recommendations"
   ]
  },
  {
   "cell_type": "markdown",
   "id": "d8d5dc9f",
   "metadata": {},
   "source": [
    " - Further research should be conducted to see if there is appetite to appeal to Customers over the age of 35. \n",
    " - There is an overall lack in female customers and campaigns should be targeted to appeal to this demographic\n",
    " - Campaigns could be marketed for the TM789 to athletic couples looking to train for distance races since they tend to run higher miles \n",
    " - TM789 should be considered luxury treadmill for athletes \n",
    " - There may be an opportunity to target a college new grad audience with TM195. Offering a deal to recent graduates would increase sales to the single and lower income population "
   ]
  },
  {
   "cell_type": "code",
   "execution_count": null,
   "id": "52bce324",
   "metadata": {},
   "outputs": [],
   "source": []
  }
 ],
 "metadata": {
  "kernelspec": {
   "display_name": "Python 3",
   "language": "python",
   "name": "python3"
  },
  "language_info": {
   "codemirror_mode": {
    "name": "ipython",
    "version": 3
   },
   "file_extension": ".py",
   "mimetype": "text/x-python",
   "name": "python",
   "nbconvert_exporter": "python",
   "pygments_lexer": "ipython3",
   "version": "3.8.8"
  }
 },
 "nbformat": 4,
 "nbformat_minor": 5
}
